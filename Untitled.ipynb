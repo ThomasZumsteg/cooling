{
 "cells": [
  {
   "cell_type": "code",
   "execution_count": 9,
   "metadata": {},
   "outputs": [
    {
     "name": "stdout",
     "output_type": "stream",
     "text": [
      "The autoreload extension is already loaded. To reload it, use:\n",
      "  %reload_ext autoreload\n"
     ]
    }
   ],
   "source": [
    "%load_ext autoreload\n",
    "%autoreload 2\n",
    "%matplotlib ipympl"
   ]
  },
  {
   "cell_type": "code",
   "execution_count": 18,
   "metadata": {},
   "outputs": [],
   "source": [
    "import pandas as pd\n",
    "import matplotlib as plt\n",
    "\n",
    "data = pd.read_csv(\"BioShock.3.csv\", sep=',', engine=\"python\")[:-2]"
   ]
  },
  {
   "cell_type": "code",
   "execution_count": 19,
   "metadata": {},
   "outputs": [],
   "source": [
    "import time\n",
    "start = time.mktime(time.strptime(f\"{data['Date'][0]} {data['Time'][0]}\", '%d.%m.%Y %H:%M:%S.%f'))\n",
    "data['Time Delta [Minutes]'] = data[['Date', 'Time']].apply(lambda r: (time.mktime(time.strptime(f'{r[0]} {r[1]}', '%d.%m.%Y %H:%M:%S.%f')) - start) / 60, axis=1)"
   ]
  },
  {
   "cell_type": "code",
   "execution_count": 20,
   "metadata": {},
   "outputs": [],
   "source": [
    "import matplotlib.pyplot as plt\n",
    "plt.rcParams['figure.figsize'] = [12, 5]"
   ]
  },
  {
   "cell_type": "code",
   "execution_count": 21,
   "metadata": {},
   "outputs": [
    {
     "data": {
      "application/vnd.jupyter.widget-view+json": {
       "model_id": "c27f079be5dc45b9b06b23803b6ec0c6",
       "version_major": 2,
       "version_minor": 0
      },
      "text/plain": [
       "FigureCanvasNbAgg()"
      ]
     },
     "metadata": {},
     "output_type": "display_data"
    },
    {
     "data": {
      "text/plain": [
       "<matplotlib.axes._subplots.AxesSubplot at 0x2a559323e80>"
      ]
     },
     "execution_count": 21,
     "metadata": {},
     "output_type": "execute_result"
    }
   ],
   "source": [
    "temperature_columns = [c for c in data.columns if '[°C]' in c]\n",
    "data[temperature_columns] = data[temperature_columns].apply(pd.to_numeric)\n",
    "data.plot(x='Time Delta [Minutes]', y=['GPU Temperature [°C]', 'GPU Temperature [°C].1', 'CPU [°C]'])"
   ]
  },
  {
   "cell_type": "code",
   "execution_count": 22,
   "metadata": {},
   "outputs": [
    {
     "data": {
      "application/vnd.jupyter.widget-view+json": {
       "model_id": "2c82b9cd6b294823b06acab88fb27adf",
       "version_major": 2,
       "version_minor": 0
      },
      "text/plain": [
       "FigureCanvasNbAgg()"
      ]
     },
     "metadata": {},
     "output_type": "display_data"
    },
    {
     "data": {
      "text/plain": [
       "<matplotlib.axes._subplots.AxesSubplot at 0x2a558f03358>"
      ]
     },
     "execution_count": 22,
     "metadata": {},
     "output_type": "execute_result"
    }
   ],
   "source": [
    "# https://www.ekwb.com/shop/ek-vardar-f3-120-1850rpm\n",
    "# https://www.ekwb.com/shop/ek-furious-vardar-evo-140 (2500rpm)\n",
    "# https://www.ekwb.com/shop/ek-xtop-revo-d5-pwm-incl-pump\n",
    "fan_speeds = [c for c in data.columns if '[RPM]' in c and 'GPU' not in c]\n",
    "data[fan_speeds] = data[fan_speeds].apply(pd.to_numeric)\n",
    "data.plot(x='Time Delta [Minutes]', y=fan_speeds)"
   ]
  },
  {
   "cell_type": "code",
   "execution_count": 23,
   "metadata": {},
   "outputs": [
    {
     "data": {
      "application/vnd.jupyter.widget-view+json": {
       "model_id": "e89415eca89f4539baea11a17af97852",
       "version_major": 2,
       "version_minor": 0
      },
      "text/plain": [
       "FigureCanvasNbAgg()"
      ]
     },
     "metadata": {},
     "output_type": "display_data"
    },
    {
     "data": {
      "text/plain": [
       "<matplotlib.axes._subplots.AxesSubplot at 0x2a558a53208>"
      ]
     },
     "execution_count": 23,
     "metadata": {},
     "output_type": "execute_result"
    }
   ],
   "source": [
    "usage = [c for c in data.columns if 'GPU Core Load' in c or 'Total CPU Usage' in c]\n",
    "data[usage] = data[usage].apply(pd.to_numeric)\n",
    "data.plot(x='Time Delta [Minutes]', y=usage)"
   ]
  },
  {
   "cell_type": "code",
   "execution_count": 24,
   "metadata": {},
   "outputs": [
    {
     "data": {
      "application/vnd.jupyter.widget-view+json": {
       "model_id": "ae18bb24e825412e8a462b873a8caaf7",
       "version_major": 2,
       "version_minor": 0
      },
      "text/plain": [
       "FigureCanvasNbAgg()"
      ]
     },
     "metadata": {},
     "output_type": "display_data"
    },
    {
     "data": {
      "text/plain": [
       "<matplotlib.axes._subplots.AxesSubplot at 0x2a558d68438>"
      ]
     },
     "execution_count": 24,
     "metadata": {},
     "output_type": "execute_result"
    }
   ],
   "source": [
    "total_power = 'Total Power [W]'\n",
    "power = [c for c in data.columns if 'Power [W]' in c and c != total_power]\n",
    "# CPU has TPD of 95W, GPUS are 250W, PS is 800W?\n",
    "data[power] = data[power].apply(pd.to_numeric)\n",
    "data[total_power] = data[power].sum(axis=1)\n",
    "power.append(total_power)\n",
    "data.plot(x='Time Delta [Minutes]', y=power)"
   ]
  },
  {
   "cell_type": "code",
   "execution_count": null,
   "metadata": {},
   "outputs": [],
   "source": []
  }
 ],
 "metadata": {
  "kernelspec": {
   "display_name": "Python 3",
   "language": "python",
   "name": "python3"
  },
  "language_info": {
   "codemirror_mode": {
    "name": "ipython",
    "version": 3
   },
   "file_extension": ".py",
   "mimetype": "text/x-python",
   "name": "python",
   "nbconvert_exporter": "python",
   "pygments_lexer": "ipython3",
   "version": "3.7.1"
  }
 },
 "nbformat": 4,
 "nbformat_minor": 2
}
